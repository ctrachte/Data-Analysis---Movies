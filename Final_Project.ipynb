{
 "cells": [
  {
   "cell_type": "markdown",
   "metadata": {},
   "source": [
    "# Independent investigation of TMDB movie data that will knock your socks off:\n",
    "### Just take them off now ok?\n",
    "First let's read/convert our CSV to a Pandas dataframe:"
   ]
  },
  {
   "cell_type": "code",
   "execution_count": 1,
   "metadata": {
    "collapsed": true
   },
   "outputs": [],
   "source": [
    "## I prefer to import each library at the beginning of the Notebook\n",
    "## It is important to note that this investigation was built using the Python 2 kernel, \n",
    "## so there will be errors in the print statements if you are using Python 3.\n",
    "import matplotlib.pyplot as plt\n",
    "import numpy as np\n",
    "import pandas as pd\n",
    "import seaborn as sns"
   ]
  },
  {
   "cell_type": "markdown",
   "metadata": {},
   "source": [
    "### Let's start by creating our PandaS DataFrame from the provided CSV:"
   ]
  },
  {
   "cell_type": "code",
   "execution_count": 2,
   "metadata": {
    "collapsed": false,
    "scrolled": true
   },
   "outputs": [
    {
     "data": {
      "text/html": [
       "<div>\n",
       "<table border=\"1\" class=\"dataframe\">\n",
       "  <thead>\n",
       "    <tr style=\"text-align: right;\">\n",
       "      <th></th>\n",
       "      <th>id</th>\n",
       "      <th>imdb_id</th>\n",
       "      <th>popularity</th>\n",
       "      <th>budget</th>\n",
       "      <th>revenue</th>\n",
       "      <th>original_title</th>\n",
       "      <th>cast</th>\n",
       "      <th>homepage</th>\n",
       "      <th>director</th>\n",
       "      <th>tagline</th>\n",
       "      <th>...</th>\n",
       "      <th>overview</th>\n",
       "      <th>runtime</th>\n",
       "      <th>genres</th>\n",
       "      <th>production_companies</th>\n",
       "      <th>release_date</th>\n",
       "      <th>vote_count</th>\n",
       "      <th>vote_average</th>\n",
       "      <th>release_year</th>\n",
       "      <th>budget_adj</th>\n",
       "      <th>revenue_adj</th>\n",
       "    </tr>\n",
       "  </thead>\n",
       "  <tbody>\n",
       "    <tr>\n",
       "      <th>0</th>\n",
       "      <td>135397</td>\n",
       "      <td>tt0369610</td>\n",
       "      <td>32.985763</td>\n",
       "      <td>150000000</td>\n",
       "      <td>1513528810</td>\n",
       "      <td>Jurassic World</td>\n",
       "      <td>Chris Pratt|Bryce Dallas Howard|Irrfan Khan|Vi...</td>\n",
       "      <td>http://www.jurassicworld.com/</td>\n",
       "      <td>Colin Trevorrow</td>\n",
       "      <td>The park is open.</td>\n",
       "      <td>...</td>\n",
       "      <td>Twenty-two years after the events of Jurassic ...</td>\n",
       "      <td>124</td>\n",
       "      <td>Action|Adventure|Science Fiction|Thriller</td>\n",
       "      <td>Universal Studios|Amblin Entertainment|Legenda...</td>\n",
       "      <td>6/9/15</td>\n",
       "      <td>5562</td>\n",
       "      <td>6.5</td>\n",
       "      <td>2015</td>\n",
       "      <td>1.379999e+08</td>\n",
       "      <td>1.392446e+09</td>\n",
       "    </tr>\n",
       "    <tr>\n",
       "      <th>1</th>\n",
       "      <td>76341</td>\n",
       "      <td>tt1392190</td>\n",
       "      <td>28.419936</td>\n",
       "      <td>150000000</td>\n",
       "      <td>378436354</td>\n",
       "      <td>Mad Max: Fury Road</td>\n",
       "      <td>Tom Hardy|Charlize Theron|Hugh Keays-Byrne|Nic...</td>\n",
       "      <td>http://www.madmaxmovie.com/</td>\n",
       "      <td>George Miller</td>\n",
       "      <td>What a Lovely Day.</td>\n",
       "      <td>...</td>\n",
       "      <td>An apocalyptic story set in the furthest reach...</td>\n",
       "      <td>120</td>\n",
       "      <td>Action|Adventure|Science Fiction|Thriller</td>\n",
       "      <td>Village Roadshow Pictures|Kennedy Miller Produ...</td>\n",
       "      <td>5/13/15</td>\n",
       "      <td>6185</td>\n",
       "      <td>7.1</td>\n",
       "      <td>2015</td>\n",
       "      <td>1.379999e+08</td>\n",
       "      <td>3.481613e+08</td>\n",
       "    </tr>\n",
       "    <tr>\n",
       "      <th>2</th>\n",
       "      <td>262500</td>\n",
       "      <td>tt2908446</td>\n",
       "      <td>13.112507</td>\n",
       "      <td>110000000</td>\n",
       "      <td>295238201</td>\n",
       "      <td>Insurgent</td>\n",
       "      <td>Shailene Woodley|Theo James|Kate Winslet|Ansel...</td>\n",
       "      <td>http://www.thedivergentseries.movie/#insurgent</td>\n",
       "      <td>Robert Schwentke</td>\n",
       "      <td>One Choice Can Destroy You</td>\n",
       "      <td>...</td>\n",
       "      <td>Beatrice Prior must confront her inner demons ...</td>\n",
       "      <td>119</td>\n",
       "      <td>Adventure|Science Fiction|Thriller</td>\n",
       "      <td>Summit Entertainment|Mandeville Films|Red Wago...</td>\n",
       "      <td>3/18/15</td>\n",
       "      <td>2480</td>\n",
       "      <td>6.3</td>\n",
       "      <td>2015</td>\n",
       "      <td>1.012000e+08</td>\n",
       "      <td>2.716190e+08</td>\n",
       "    </tr>\n",
       "    <tr>\n",
       "      <th>3</th>\n",
       "      <td>140607</td>\n",
       "      <td>tt2488496</td>\n",
       "      <td>11.173104</td>\n",
       "      <td>200000000</td>\n",
       "      <td>2068178225</td>\n",
       "      <td>Star Wars: The Force Awakens</td>\n",
       "      <td>Harrison Ford|Mark Hamill|Carrie Fisher|Adam D...</td>\n",
       "      <td>http://www.starwars.com/films/star-wars-episod...</td>\n",
       "      <td>J.J. Abrams</td>\n",
       "      <td>Every generation has a story.</td>\n",
       "      <td>...</td>\n",
       "      <td>Thirty years after defeating the Galactic Empi...</td>\n",
       "      <td>136</td>\n",
       "      <td>Action|Adventure|Science Fiction|Fantasy</td>\n",
       "      <td>Lucasfilm|Truenorth Productions|Bad Robot</td>\n",
       "      <td>12/15/15</td>\n",
       "      <td>5292</td>\n",
       "      <td>7.5</td>\n",
       "      <td>2015</td>\n",
       "      <td>1.839999e+08</td>\n",
       "      <td>1.902723e+09</td>\n",
       "    </tr>\n",
       "    <tr>\n",
       "      <th>4</th>\n",
       "      <td>168259</td>\n",
       "      <td>tt2820852</td>\n",
       "      <td>9.335014</td>\n",
       "      <td>190000000</td>\n",
       "      <td>1506249360</td>\n",
       "      <td>Furious 7</td>\n",
       "      <td>Vin Diesel|Paul Walker|Jason Statham|Michelle ...</td>\n",
       "      <td>http://www.furious7.com/</td>\n",
       "      <td>James Wan</td>\n",
       "      <td>Vengeance Hits Home</td>\n",
       "      <td>...</td>\n",
       "      <td>Deckard Shaw seeks revenge against Dominic Tor...</td>\n",
       "      <td>137</td>\n",
       "      <td>Action|Crime|Thriller</td>\n",
       "      <td>Universal Pictures|Original Film|Media Rights ...</td>\n",
       "      <td>4/1/15</td>\n",
       "      <td>2947</td>\n",
       "      <td>7.3</td>\n",
       "      <td>2015</td>\n",
       "      <td>1.747999e+08</td>\n",
       "      <td>1.385749e+09</td>\n",
       "    </tr>\n",
       "  </tbody>\n",
       "</table>\n",
       "<p>5 rows × 21 columns</p>\n",
       "</div>"
      ],
      "text/plain": [
       "       id    imdb_id  popularity     budget     revenue  \\\n",
       "0  135397  tt0369610   32.985763  150000000  1513528810   \n",
       "1   76341  tt1392190   28.419936  150000000   378436354   \n",
       "2  262500  tt2908446   13.112507  110000000   295238201   \n",
       "3  140607  tt2488496   11.173104  200000000  2068178225   \n",
       "4  168259  tt2820852    9.335014  190000000  1506249360   \n",
       "\n",
       "                 original_title  \\\n",
       "0                Jurassic World   \n",
       "1            Mad Max: Fury Road   \n",
       "2                     Insurgent   \n",
       "3  Star Wars: The Force Awakens   \n",
       "4                     Furious 7   \n",
       "\n",
       "                                                cast  \\\n",
       "0  Chris Pratt|Bryce Dallas Howard|Irrfan Khan|Vi...   \n",
       "1  Tom Hardy|Charlize Theron|Hugh Keays-Byrne|Nic...   \n",
       "2  Shailene Woodley|Theo James|Kate Winslet|Ansel...   \n",
       "3  Harrison Ford|Mark Hamill|Carrie Fisher|Adam D...   \n",
       "4  Vin Diesel|Paul Walker|Jason Statham|Michelle ...   \n",
       "\n",
       "                                            homepage          director  \\\n",
       "0                      http://www.jurassicworld.com/   Colin Trevorrow   \n",
       "1                        http://www.madmaxmovie.com/     George Miller   \n",
       "2     http://www.thedivergentseries.movie/#insurgent  Robert Schwentke   \n",
       "3  http://www.starwars.com/films/star-wars-episod...       J.J. Abrams   \n",
       "4                           http://www.furious7.com/         James Wan   \n",
       "\n",
       "                         tagline      ...       \\\n",
       "0              The park is open.      ...        \n",
       "1             What a Lovely Day.      ...        \n",
       "2     One Choice Can Destroy You      ...        \n",
       "3  Every generation has a story.      ...        \n",
       "4            Vengeance Hits Home      ...        \n",
       "\n",
       "                                            overview runtime  \\\n",
       "0  Twenty-two years after the events of Jurassic ...     124   \n",
       "1  An apocalyptic story set in the furthest reach...     120   \n",
       "2  Beatrice Prior must confront her inner demons ...     119   \n",
       "3  Thirty years after defeating the Galactic Empi...     136   \n",
       "4  Deckard Shaw seeks revenge against Dominic Tor...     137   \n",
       "\n",
       "                                      genres  \\\n",
       "0  Action|Adventure|Science Fiction|Thriller   \n",
       "1  Action|Adventure|Science Fiction|Thriller   \n",
       "2         Adventure|Science Fiction|Thriller   \n",
       "3   Action|Adventure|Science Fiction|Fantasy   \n",
       "4                      Action|Crime|Thriller   \n",
       "\n",
       "                                production_companies release_date vote_count  \\\n",
       "0  Universal Studios|Amblin Entertainment|Legenda...       6/9/15       5562   \n",
       "1  Village Roadshow Pictures|Kennedy Miller Produ...      5/13/15       6185   \n",
       "2  Summit Entertainment|Mandeville Films|Red Wago...      3/18/15       2480   \n",
       "3          Lucasfilm|Truenorth Productions|Bad Robot     12/15/15       5292   \n",
       "4  Universal Pictures|Original Film|Media Rights ...       4/1/15       2947   \n",
       "\n",
       "   vote_average  release_year    budget_adj   revenue_adj  \n",
       "0           6.5          2015  1.379999e+08  1.392446e+09  \n",
       "1           7.1          2015  1.379999e+08  3.481613e+08  \n",
       "2           6.3          2015  1.012000e+08  2.716190e+08  \n",
       "3           7.5          2015  1.839999e+08  1.902723e+09  \n",
       "4           7.3          2015  1.747999e+08  1.385749e+09  \n",
       "\n",
       "[5 rows x 21 columns]"
      ]
     },
     "execution_count": 2,
     "metadata": {},
     "output_type": "execute_result"
    }
   ],
   "source": [
    "movie_data = pd.read_csv('tmdb-movies.csv')\n",
    "\n",
    "movie_data.head(5)\n",
    "#printing only the first 5 rows will allow me to see what data is contained in my DataFrame:"
   ]
  },
  {
   "cell_type": "markdown",
   "metadata": {},
   "source": [
    "# In this investigation I would like to know how budget and revenue relate to the popularity rating.\n",
    "\n",
    "- I postulate there is a positive correlation between popularity vs budget, as well as revenue vs popularity. I am not sure about budget vs revenue, but I think there will be a positive correlation here as well.\n",
    "    - My hypothesis is that the more money spent, the more exposure a film gets, and therefore the more revenue and higher popularity rating.\n",
    "\n",
    "### Here are some ways I plan to do this after cleaning/wrangling:\n",
    "\n",
    "Primary Analyis:\n",
    "\n",
    "1.) Group the data by year, analyzing 3 seperate years each 10 years apart\n",
    "\n",
    "2.) Plot popularity vs revenue, popularity vs budget, budget vs revenue\n",
    "\n",
    "3.) Calculate Pearson's R Value for each correlation\n",
    "    \n",
    "4.) Create a scatter plot of revenue and budget for each selected year, with the size of each dot being popularity\n",
    "\n",
    "Secondary Analysis:\n",
    "\n",
    "1.) Confirm or deny findings by graphing each correlation (R value) over time\n",
    "\n",
    "\n",
    "### Important Note(s):\n",
    "\n",
    "- In actuality many variables contribute to a films popularity, however, we cannot investigate them all for brevity's sake. Most big data companies can do this using more complex algorithms. **Please see the limitations section at the end of this investigation.**\n",
    "\n",
    "\n",
    "- I do not know the exact calculation used to acquire the popularity rating. This may affect our conclusions since we can only assume that the higher the number, the more popular the film.\n"
   ]
  },
  {
   "cell_type": "markdown",
   "metadata": {},
   "source": [
    "## Before wrangling data, we should build functions to standardize our data, and calculate Pearson's R:\n",
    "\n",
    "This functions will be valuable later in the analysis as you will soon see"
   ]
  },
  {
   "cell_type": "code",
   "execution_count": 80,
   "metadata": {
    "collapsed": false
   },
   "outputs": [],
   "source": [
    "# Let's start by defining functions to standardize our data:\n",
    "\n",
    "# for standardizing columns of data.\n",
    "def standardize_column(column):\n",
    "    return (column-column.mean()) / column.std(ddof=0)\n",
    "\n",
    "# for standardizing rows, I may not use this one.\n",
    "def standardize_rows(df):\n",
    "    mean_diffs = df.sub(df.mean(axis='columns'), axis='index')\n",
    "    return mean_diffs.div(df.std(axis='columns',ddof=0), axis='index')\n",
    "\n",
    "def standardize(df):\n",
    "    return df.apply(standardize_column)\n",
    "\n",
    "# And this function will help us see a correlation between two sets of variables (Pearson's R)\n",
    "# We may need to adapt it to the data fram we are using later on\n",
    "\n",
    "def correlation(x,y):\n",
    "    xstd = (x-x.mean()) / x.std(ddof=0)\n",
    "    ystd = (y-y.mean()) / y.std(ddof=0)\n",
    "    return (xstd*ystd).mean()"
   ]
  },
  {
   "cell_type": "markdown",
   "metadata": {},
   "source": [
    "## For starters, I would like to slice the data to create three data sets, the most current year 2015 (our primary investigation set) and  for comparison: 2000 and 1985.\n",
    "\n",
    "These snapshots will help me to get a quick picture of the data before I investigate the whole set.\n",
    "\n",
    "We can use PandaS `set_index()` function to set the index to the movie title to make our data more understandable.\n",
    "\n",
    "I noticed that PandaS used Float values for adjusted revenue and budget, we need those to be integers to work with them."
   ]
  },
  {
   "cell_type": "code",
   "execution_count": 81,
   "metadata": {
    "collapsed": false
   },
   "outputs": [],
   "source": [
    "# First thing to do will be to convert the values to integers:\n",
    "movie_data['budget_adj'] = movie_data['budget_adj'].apply(np.int64)\n",
    "movie_data['revenue_adj'] = movie_data['revenue_adj'].apply(np.int64)"
   ]
  },
  {
   "cell_type": "code",
   "execution_count": 82,
   "metadata": {
    "collapsed": false,
    "scrolled": true
   },
   "outputs": [],
   "source": [
    "# let's set the index to be the title so the data is more readable:\n",
    "movies_in_2015 = movie_data[movie_data['release_year']==2015].set_index('original_title')\n",
    "movies_in_2000 = movie_data[movie_data['release_year']==2000].set_index('original_title')\n",
    "movies_in_1985 = movie_data[movie_data['release_year']==1985].set_index('original_title')"
   ]
  },
  {
   "cell_type": "markdown",
   "metadata": {},
   "source": [
    "## Next, let's trim down our dataframe to only include the factors budget, revenue, and popularity"
   ]
  },
  {
   "cell_type": "code",
   "execution_count": 83,
   "metadata": {
    "collapsed": false
   },
   "outputs": [
    {
     "data": {
      "text/html": [
       "<div>\n",
       "<table border=\"1\" class=\"dataframe\">\n",
       "  <thead>\n",
       "    <tr style=\"text-align: right;\">\n",
       "      <th></th>\n",
       "      <th>budget_adj</th>\n",
       "      <th>popularity</th>\n",
       "      <th>revenue_adj</th>\n",
       "    </tr>\n",
       "    <tr>\n",
       "      <th>original_title</th>\n",
       "      <th></th>\n",
       "      <th></th>\n",
       "      <th></th>\n",
       "    </tr>\n",
       "  </thead>\n",
       "  <tbody>\n",
       "    <tr>\n",
       "      <th>Back to the Future</th>\n",
       "      <td>38516154</td>\n",
       "      <td>6.095293</td>\n",
       "      <td>772572771</td>\n",
       "    </tr>\n",
       "    <tr>\n",
       "      <th>The Breakfast Club</th>\n",
       "      <td>2027166</td>\n",
       "      <td>2.834739</td>\n",
       "      <td>104450077</td>\n",
       "    </tr>\n",
       "    <tr>\n",
       "      <th>Ladyhawke</th>\n",
       "      <td>40543321</td>\n",
       "      <td>1.753688</td>\n",
       "      <td>37364724</td>\n",
       "    </tr>\n",
       "    <tr>\n",
       "      <th>Mad Max Beyond Thunderdome</th>\n",
       "      <td>24945338</td>\n",
       "      <td>1.746063</td>\n",
       "      <td>73444670</td>\n",
       "    </tr>\n",
       "    <tr>\n",
       "      <th>A View to a Kill</th>\n",
       "      <td>60814981</td>\n",
       "      <td>1.623978</td>\n",
       "      <td>308996785</td>\n",
       "    </tr>\n",
       "    <tr>\n",
       "      <th>Legend</th>\n",
       "      <td>50679151</td>\n",
       "      <td>1.613752</td>\n",
       "      <td>31425355</td>\n",
       "    </tr>\n",
       "    <tr>\n",
       "      <th>The Goonies</th>\n",
       "      <td>38516154</td>\n",
       "      <td>1.596994</td>\n",
       "      <td>124447075</td>\n",
       "    </tr>\n",
       "    <tr>\n",
       "      <th>A Nightmare on Elm Street Part 2: Freddy's Revenge</th>\n",
       "      <td>6081498</td>\n",
       "      <td>1.299275</td>\n",
       "      <td>60813386</td>\n",
       "    </tr>\n",
       "    <tr>\n",
       "      <th>Rambo: First Blood Part II</th>\n",
       "      <td>89195306</td>\n",
       "      <td>1.177428</td>\n",
       "      <td>608961557</td>\n",
       "    </tr>\n",
       "    <tr>\n",
       "      <th>Out of Africa</th>\n",
       "      <td>62842147</td>\n",
       "      <td>1.168819</td>\n",
       "      <td>260489226</td>\n",
       "    </tr>\n",
       "    <tr>\n",
       "      <th>Rocky IV</th>\n",
       "      <td>62842147</td>\n",
       "      <td>1.149954</td>\n",
       "      <td>609110116</td>\n",
       "    </tr>\n",
       "    <tr>\n",
       "      <th>Brazil</th>\n",
       "      <td>30407490</td>\n",
       "      <td>1.105634</td>\n",
       "      <td>0</td>\n",
       "    </tr>\n",
       "    <tr>\n",
       "      <th>The Black Cauldron</th>\n",
       "      <td>50679151</td>\n",
       "      <td>1.034373</td>\n",
       "      <td>43155713</td>\n",
       "    </tr>\n",
       "    <tr>\n",
       "      <th>The Color Purple</th>\n",
       "      <td>30407490</td>\n",
       "      <td>1.012186</td>\n",
       "      <td>296558194</td>\n",
       "    </tr>\n",
       "    <tr>\n",
       "      <th>Commando</th>\n",
       "      <td>20271660</td>\n",
       "      <td>0.898411</td>\n",
       "      <td>116562048</td>\n",
       "    </tr>\n",
       "    <tr>\n",
       "      <th>King Solomon's Mines</th>\n",
       "      <td>25339575</td>\n",
       "      <td>0.887605</td>\n",
       "      <td>482925</td>\n",
       "    </tr>\n",
       "    <tr>\n",
       "      <th>The Return of the Living Dead</th>\n",
       "      <td>8108664</td>\n",
       "      <td>0.876636</td>\n",
       "      <td>28860763</td>\n",
       "    </tr>\n",
       "    <tr>\n",
       "      <th>Witness</th>\n",
       "      <td>24325992</td>\n",
       "      <td>0.873551</td>\n",
       "      <td>139280483</td>\n",
       "    </tr>\n",
       "    <tr>\n",
       "      <th>The Emerald Forest</th>\n",
       "      <td>0</td>\n",
       "      <td>0.790123</td>\n",
       "      <td>49598671</td>\n",
       "    </tr>\n",
       "    <tr>\n",
       "      <th>Cocoon</th>\n",
       "      <td>0</td>\n",
       "      <td>0.763430</td>\n",
       "      <td>172943868</td>\n",
       "    </tr>\n",
       "  </tbody>\n",
       "</table>\n",
       "</div>"
      ],
      "text/plain": [
       "                                                    budget_adj  popularity  \\\n",
       "original_title                                                               \n",
       "Back to the Future                                    38516154    6.095293   \n",
       "The Breakfast Club                                     2027166    2.834739   \n",
       "Ladyhawke                                             40543321    1.753688   \n",
       "Mad Max Beyond Thunderdome                            24945338    1.746063   \n",
       "A View to a Kill                                      60814981    1.623978   \n",
       "Legend                                                50679151    1.613752   \n",
       "The Goonies                                           38516154    1.596994   \n",
       "A Nightmare on Elm Street Part 2: Freddy's Revenge     6081498    1.299275   \n",
       "Rambo: First Blood Part II                            89195306    1.177428   \n",
       "Out of Africa                                         62842147    1.168819   \n",
       "Rocky IV                                              62842147    1.149954   \n",
       "Brazil                                                30407490    1.105634   \n",
       "The Black Cauldron                                    50679151    1.034373   \n",
       "The Color Purple                                      30407490    1.012186   \n",
       "Commando                                              20271660    0.898411   \n",
       "King Solomon's Mines                                  25339575    0.887605   \n",
       "The Return of the Living Dead                          8108664    0.876636   \n",
       "Witness                                               24325992    0.873551   \n",
       "The Emerald Forest                                           0    0.790123   \n",
       "Cocoon                                                       0    0.763430   \n",
       "\n",
       "                                                    revenue_adj  \n",
       "original_title                                                   \n",
       "Back to the Future                                    772572771  \n",
       "The Breakfast Club                                    104450077  \n",
       "Ladyhawke                                              37364724  \n",
       "Mad Max Beyond Thunderdome                             73444670  \n",
       "A View to a Kill                                      308996785  \n",
       "Legend                                                 31425355  \n",
       "The Goonies                                           124447075  \n",
       "A Nightmare on Elm Street Part 2: Freddy's Revenge     60813386  \n",
       "Rambo: First Blood Part II                            608961557  \n",
       "Out of Africa                                         260489226  \n",
       "Rocky IV                                              609110116  \n",
       "Brazil                                                        0  \n",
       "The Black Cauldron                                     43155713  \n",
       "The Color Purple                                      296558194  \n",
       "Commando                                              116562048  \n",
       "King Solomon's Mines                                     482925  \n",
       "The Return of the Living Dead                          28860763  \n",
       "Witness                                               139280483  \n",
       "The Emerald Forest                                     49598671  \n",
       "Cocoon                                                172943868  "
      ]
     },
     "execution_count": 83,
     "metadata": {},
     "output_type": "execute_result"
    }
   ],
   "source": [
    "# Slice out the data we wnat to use:\n",
    "pop_bdgt_rev_2015 = movies_in_2015[['budget_adj','popularity', 'revenue_adj']]\n",
    "pop_bdgt_rev_2000 = movies_in_2000[['budget_adj','popularity', 'revenue_adj']]\n",
    "pop_bdgt_rev_1985 = movies_in_1985[['budget_adj','popularity', 'revenue_adj']]\n",
    "# Taking a peak at the first 20 entries:\n",
    "pop_bdgt_rev_1985.head(20)"
   ]
  },
  {
   "cell_type": "markdown",
   "metadata": {},
   "source": [
    "## Wait, what are those '0's? \n",
    "Let's make a histogram to see if there are a significant number of them:"
   ]
  },
  {
   "cell_type": "code",
   "execution_count": 104,
   "metadata": {
    "collapsed": false
   },
   "outputs": [
    {
     "data": {
      "image/png": "[encoded data removed]",
      "text/plain": [
       "<matplotlib.figure.Figure at 0x1861c588>"
      ]
     },
     "metadata": {},
     "output_type": "display_data"
    }
   ],
   "source": [
    "pop_hist = pop_bdgt_rev_all['budget_adj']\n",
    "pop_hist.hist(bins=(len(pop_hist)))\n",
    "\n",
    "# Let's label the graph:\n",
    "plt.suptitle('Movie Budgets', fontsize = 20)\n",
    "plt.xlabel('Dollars Spent', fontsize=15)\n",
    "plt.ylabel(\"Number of Movies\", fontsize=15)\n",
    "plt.legend(fontsize=8)\n"
   ]
  },
  {
   "cell_type": "markdown",
   "metadata": {},
   "source": [
    "## Looking carefully at the histogram we see a lot of movies with no budget!\n",
    "That doesn't seem right, because it's impossible for a movie not to have a budget. Perhaps for some movies, this data was simply not made available and auto-filled as '0'? So let's clean up the data and remove those entries, simply because we cannot use or trust them:"
   ]
  },
  {
   "cell_type": "code",
   "execution_count": 85,
   "metadata": {
    "collapsed": false
   },
   "outputs": [
    {
     "data": {
      "text/html": [
       "<div>\n",
       "<table border=\"1\" class=\"dataframe\">\n",
       "  <thead>\n",
       "    <tr style=\"text-align: right;\">\n",
       "      <th></th>\n",
       "      <th>budget_adj</th>\n",
       "      <th>popularity</th>\n",
       "      <th>revenue_adj</th>\n",
       "    </tr>\n",
       "    <tr>\n",
       "      <th>original_title</th>\n",
       "      <th></th>\n",
       "      <th></th>\n",
       "      <th></th>\n",
       "    </tr>\n",
       "  </thead>\n",
       "  <tbody>\n",
       "    <tr>\n",
       "      <th>Jurassic World</th>\n",
       "      <td>137999939</td>\n",
       "      <td>32.985763</td>\n",
       "      <td>1392445892</td>\n",
       "    </tr>\n",
       "    <tr>\n",
       "      <th>Mad Max: Fury Road</th>\n",
       "      <td>137999939</td>\n",
       "      <td>28.419936</td>\n",
       "      <td>348161292</td>\n",
       "    </tr>\n",
       "    <tr>\n",
       "      <th>Insurgent</th>\n",
       "      <td>101199955</td>\n",
       "      <td>13.112507</td>\n",
       "      <td>271619025</td>\n",
       "    </tr>\n",
       "    <tr>\n",
       "      <th>Star Wars: The Force Awakens</th>\n",
       "      <td>183999919</td>\n",
       "      <td>11.173104</td>\n",
       "      <td>1902723129</td>\n",
       "    </tr>\n",
       "    <tr>\n",
       "      <th>Furious 7</th>\n",
       "      <td>174799923</td>\n",
       "      <td>9.335014</td>\n",
       "      <td>1385748801</td>\n",
       "    </tr>\n",
       "    <tr>\n",
       "      <th>The Revenant</th>\n",
       "      <td>124199945</td>\n",
       "      <td>9.110700</td>\n",
       "      <td>490314247</td>\n",
       "    </tr>\n",
       "    <tr>\n",
       "      <th>Terminator Genisys</th>\n",
       "      <td>142599937</td>\n",
       "      <td>8.654359</td>\n",
       "      <td>405355075</td>\n",
       "    </tr>\n",
       "    <tr>\n",
       "      <th>The Martian</th>\n",
       "      <td>99359956</td>\n",
       "      <td>7.667400</td>\n",
       "      <td>547749654</td>\n",
       "    </tr>\n",
       "    <tr>\n",
       "      <th>Minions</th>\n",
       "      <td>68079970</td>\n",
       "      <td>7.404165</td>\n",
       "      <td>1064192016</td>\n",
       "    </tr>\n",
       "    <tr>\n",
       "      <th>Inside Out</th>\n",
       "      <td>160999929</td>\n",
       "      <td>6.326804</td>\n",
       "      <td>785411574</td>\n",
       "    </tr>\n",
       "    <tr>\n",
       "      <th>Spectre</th>\n",
       "      <td>225399900</td>\n",
       "      <td>6.200282</td>\n",
       "      <td>810220283</td>\n",
       "    </tr>\n",
       "    <tr>\n",
       "      <th>Jupiter Ascending</th>\n",
       "      <td>161919931</td>\n",
       "      <td>6.189369</td>\n",
       "      <td>169268630</td>\n",
       "    </tr>\n",
       "    <tr>\n",
       "      <th>Ex Machina</th>\n",
       "      <td>13799993</td>\n",
       "      <td>6.118847</td>\n",
       "      <td>33919845</td>\n",
       "    </tr>\n",
       "    <tr>\n",
       "      <th>Pixels</th>\n",
       "      <td>80959964</td>\n",
       "      <td>5.984995</td>\n",
       "      <td>224146025</td>\n",
       "    </tr>\n",
       "    <tr>\n",
       "      <th>Avengers: Age of Ultron</th>\n",
       "      <td>257599886</td>\n",
       "      <td>5.944927</td>\n",
       "      <td>1292632336</td>\n",
       "    </tr>\n",
       "    <tr>\n",
       "      <th>The Hateful Eight</th>\n",
       "      <td>40479982</td>\n",
       "      <td>5.898400</td>\n",
       "      <td>143299244</td>\n",
       "    </tr>\n",
       "    <tr>\n",
       "      <th>Taken 3</th>\n",
       "      <td>44159980</td>\n",
       "      <td>5.749758</td>\n",
       "      <td>299709578</td>\n",
       "    </tr>\n",
       "    <tr>\n",
       "      <th>Ant-Man</th>\n",
       "      <td>119599947</td>\n",
       "      <td>5.573184</td>\n",
       "      <td>477113780</td>\n",
       "    </tr>\n",
       "    <tr>\n",
       "      <th>Cinderella</th>\n",
       "      <td>87399961</td>\n",
       "      <td>5.556818</td>\n",
       "      <td>498963025</td>\n",
       "    </tr>\n",
       "    <tr>\n",
       "      <th>The Hunger Games: Mockingjay - Part 2</th>\n",
       "      <td>147199935</td>\n",
       "      <td>5.476958</td>\n",
       "      <td>598481289</td>\n",
       "    </tr>\n",
       "  </tbody>\n",
       "</table>\n",
       "</div>"
      ],
      "text/plain": [
       "                                       budget_adj  popularity  revenue_adj\n",
       "original_title                                                            \n",
       "Jurassic World                          137999939   32.985763   1392445892\n",
       "Mad Max: Fury Road                      137999939   28.419936    348161292\n",
       "Insurgent                               101199955   13.112507    271619025\n",
       "Star Wars: The Force Awakens            183999919   11.173104   1902723129\n",
       "Furious 7                               174799923    9.335014   1385748801\n",
       "The Revenant                            124199945    9.110700    490314247\n",
       "Terminator Genisys                      142599937    8.654359    405355075\n",
       "The Martian                              99359956    7.667400    547749654\n",
       "Minions                                  68079970    7.404165   1064192016\n",
       "Inside Out                              160999929    6.326804    785411574\n",
       "Spectre                                 225399900    6.200282    810220283\n",
       "Jupiter Ascending                       161919931    6.189369    169268630\n",
       "Ex Machina                               13799993    6.118847     33919845\n",
       "Pixels                                   80959964    5.984995    224146025\n",
       "Avengers: Age of Ultron                 257599886    5.944927   1292632336\n",
       "The Hateful Eight                        40479982    5.898400    143299244\n",
       "Taken 3                                  44159980    5.749758    299709578\n",
       "Ant-Man                                 119599947    5.573184    477113780\n",
       "Cinderella                               87399961    5.556818    498963025\n",
       "The Hunger Games: Mockingjay - Part 2   147199935    5.476958    598481289"
      ]
     },
     "execution_count": 85,
     "metadata": {},
     "output_type": "execute_result"
    }
   ],
   "source": [
    "# 2015\n",
    "pop_bdgt_rev_2015 = pop_bdgt_rev_2015[pop_bdgt_rev_2015['budget_adj']>0]\n",
    "# 2000\n",
    "pop_bdgt_rev_2000 = pop_bdgt_rev_2000[pop_bdgt_rev_2000['budget_adj']>0]\n",
    "# 1985\n",
    "pop_bdgt_rev_1985 = pop_bdgt_rev_1985[pop_bdgt_rev_1985['budget_adj']>0]\n",
    "\n",
    "# Now we see only the movies with data for budget:\n",
    "pop_bdgt_rev_2015.head(20)"
   ]
  },
  {
   "cell_type": "markdown",
   "metadata": {},
   "source": [
    "# We can start by calculating Pearson's R to see if there is a positive correlation:\n",
    "\n",
    "Pearson's R (calculated using our previously defined '`correlation`' function) will tell us if two variables are correlated. If the value is 1 there is a total positive linear correlation, 0 is no linear correlation, and −1 is total negative linear correlation."
   ]
  },
  {
   "cell_type": "markdown",
   "metadata": {},
   "source": [
    "## Let's investigate Budget vs Popularity:"
   ]
  },
  {
   "cell_type": "markdown",
   "metadata": {},
   "source": [
    "**2015**"
   ]
  },
  {
   "cell_type": "code",
   "execution_count": 86,
   "metadata": {
    "collapsed": false
   },
   "outputs": [
    {
     "data": {
      "text/plain": [
       "0.60559235803122269"
      ]
     },
     "execution_count": 86,
     "metadata": {},
     "output_type": "execute_result"
    }
   ],
   "source": [
    "correlation(pop_bdgt_rev_2015['budget_adj'], pop_bdgt_rev_2015['popularity'])"
   ]
  },
  {
   "cell_type": "markdown",
   "metadata": {},
   "source": [
    "**2000**"
   ]
  },
  {
   "cell_type": "code",
   "execution_count": 87,
   "metadata": {
    "collapsed": false
   },
   "outputs": [
    {
     "data": {
      "text/plain": [
       "0.41627482678603367"
      ]
     },
     "execution_count": 87,
     "metadata": {},
     "output_type": "execute_result"
    }
   ],
   "source": [
    "correlation(pop_bdgt_rev_2000['budget_adj'], pop_bdgt_rev_2000['popularity'])"
   ]
  },
  {
   "cell_type": "markdown",
   "metadata": {},
   "source": [
    "**1985**"
   ]
  },
  {
   "cell_type": "code",
   "execution_count": 88,
   "metadata": {
    "collapsed": false
   },
   "outputs": [
    {
     "data": {
      "text/plain": [
       "0.17416336790445094"
      ]
     },
     "execution_count": 88,
     "metadata": {},
     "output_type": "execute_result"
    }
   ],
   "source": [
    "correlation(pop_bdgt_rev_1985['budget_adj'], pop_bdgt_rev_1985['popularity'])"
   ]
  },
  {
   "cell_type": "markdown",
   "metadata": {},
   "source": [
    "### There appears to be a positive correlation increasing over time"
   ]
  },
  {
   "cell_type": "markdown",
   "metadata": {},
   "source": [
    "## Now let's investigate Revenue vs Popularity:\n"
   ]
  },
  {
   "cell_type": "markdown",
   "metadata": {},
   "source": [
    "**2015**"
   ]
  },
  {
   "cell_type": "code",
   "execution_count": 89,
   "metadata": {
    "collapsed": false
   },
   "outputs": [
    {
     "data": {
      "text/plain": [
       "0.66266798299720631"
      ]
     },
     "execution_count": 89,
     "metadata": {},
     "output_type": "execute_result"
    }
   ],
   "source": [
    "correlation(pop_bdgt_rev_2015['revenue_adj'], pop_bdgt_rev_2015['popularity'])"
   ]
  },
  {
   "cell_type": "markdown",
   "metadata": {},
   "source": [
    "**2000**"
   ]
  },
  {
   "cell_type": "code",
   "execution_count": 90,
   "metadata": {
    "collapsed": false
   },
   "outputs": [
    {
     "data": {
      "text/plain": [
       "0.69767842785117118"
      ]
     },
     "execution_count": 90,
     "metadata": {},
     "output_type": "execute_result"
    }
   ],
   "source": [
    "correlation(pop_bdgt_rev_2000['revenue_adj'], pop_bdgt_rev_2000['popularity'])"
   ]
  },
  {
   "cell_type": "markdown",
   "metadata": {},
   "source": [
    "**1985**"
   ]
  },
  {
   "cell_type": "code",
   "execution_count": 91,
   "metadata": {
    "collapsed": false
   },
   "outputs": [
    {
     "data": {
      "text/plain": [
       "0.67018810052408861"
      ]
     },
     "execution_count": 91,
     "metadata": {},
     "output_type": "execute_result"
    }
   ],
   "source": [
    "correlation(pop_bdgt_rev_1985['revenue_adj'], pop_bdgt_rev_1985['popularity'])"
   ]
  },
  {
   "cell_type": "markdown",
   "metadata": {},
   "source": [
    "### There appears to be a positive correlation staying roughly the same over time"
   ]
  },
  {
   "cell_type": "markdown",
   "metadata": {},
   "source": [
    "## What about Budget vs Revenue?"
   ]
  },
  {
   "cell_type": "markdown",
   "metadata": {},
   "source": [
    "**2015**"
   ]
  },
  {
   "cell_type": "code",
   "execution_count": 92,
   "metadata": {
    "collapsed": false
   },
   "outputs": [
    {
     "data": {
      "text/plain": [
       "0.7752261758694533"
      ]
     },
     "execution_count": 92,
     "metadata": {},
     "output_type": "execute_result"
    }
   ],
   "source": [
    "correlation(pop_bdgt_rev_2015['revenue_adj'], pop_bdgt_rev_2015['budget_adj'])"
   ]
  },
  {
   "cell_type": "markdown",
   "metadata": {},
   "source": [
    "**2000**"
   ]
  },
  {
   "cell_type": "code",
   "execution_count": 93,
   "metadata": {
    "collapsed": false
   },
   "outputs": [
    {
     "data": {
      "text/plain": [
       "0.64561118854388466"
      ]
     },
     "execution_count": 93,
     "metadata": {},
     "output_type": "execute_result"
    }
   ],
   "source": [
    "correlation(pop_bdgt_rev_2000['revenue_adj'], pop_bdgt_rev_2000['budget_adj'])"
   ]
  },
  {
   "cell_type": "markdown",
   "metadata": {},
   "source": [
    "**1985**"
   ]
  },
  {
   "cell_type": "code",
   "execution_count": 94,
   "metadata": {
    "collapsed": false
   },
   "outputs": [
    {
     "data": {
      "text/plain": [
       "0.44551820197540726"
      ]
     },
     "execution_count": 94,
     "metadata": {},
     "output_type": "execute_result"
    }
   ],
   "source": [
    "correlation(pop_bdgt_rev_1985['revenue_adj'], pop_bdgt_rev_1985['budget_adj'])"
   ]
  },
  {
   "cell_type": "markdown",
   "metadata": {},
   "source": [
    "### There appears to be a positive correlation increasing over time"
   ]
  },
  {
   "cell_type": "markdown",
   "metadata": {},
   "source": [
    "# Next we can create a 3d scatter plot* to see the correlation between budget, revenue and popularity\n",
    "\n",
    "*Dot size is the standardized popularity rating times 10"
   ]
  },
  {
   "cell_type": "markdown",
   "metadata": {},
   "source": [
    "### Let's start by standardizing our columns:\n",
    "#### This will make our data easy to compare, since the values for revenue and popularity are wildly different."
   ]
  },
  {
   "cell_type": "code",
   "execution_count": 95,
   "metadata": {
    "collapsed": false
   },
   "outputs": [
    {
     "data": {
      "text/html": [
       "<div>\n",
       "<table border=\"1\" class=\"dataframe\">\n",
       "  <thead>\n",
       "    <tr style=\"text-align: right;\">\n",
       "      <th></th>\n",
       "      <th>budget_adj</th>\n",
       "      <th>popularity</th>\n",
       "      <th>revenue_adj</th>\n",
       "    </tr>\n",
       "    <tr>\n",
       "      <th>original_title</th>\n",
       "      <th></th>\n",
       "      <th></th>\n",
       "      <th></th>\n",
       "    </tr>\n",
       "  </thead>\n",
       "  <tbody>\n",
       "    <tr>\n",
       "      <th>Jurassic World</th>\n",
       "      <td>2.313175</td>\n",
       "      <td>8.814597</td>\n",
       "      <td>5.113760</td>\n",
       "    </tr>\n",
       "    <tr>\n",
       "      <th>Mad Max: Fury Road</th>\n",
       "      <td>2.313175</td>\n",
       "      <td>7.502616</td>\n",
       "      <td>0.934046</td>\n",
       "    </tr>\n",
       "    <tr>\n",
       "      <th>Insurgent</th>\n",
       "      <td>1.500294</td>\n",
       "      <td>3.104059</td>\n",
       "      <td>0.627688</td>\n",
       "    </tr>\n",
       "    <tr>\n",
       "      <th>Star Wars: The Force Awakens</th>\n",
       "      <td>3.329277</td>\n",
       "      <td>2.546776</td>\n",
       "      <td>7.156127</td>\n",
       "    </tr>\n",
       "    <tr>\n",
       "      <th>Furious 7</th>\n",
       "      <td>3.126057</td>\n",
       "      <td>2.018605</td>\n",
       "      <td>5.086955</td>\n",
       "    </tr>\n",
       "  </tbody>\n",
       "</table>\n",
       "</div>"
      ],
      "text/plain": [
       "                              budget_adj  popularity  revenue_adj\n",
       "original_title                                                   \n",
       "Jurassic World                  2.313175    8.814597     5.113760\n",
       "Mad Max: Fury Road              2.313175    7.502616     0.934046\n",
       "Insurgent                       1.500294    3.104059     0.627688\n",
       "Star Wars: The Force Awakens    3.329277    2.546776     7.156127\n",
       "Furious 7                       3.126057    2.018605     5.086955"
      ]
     },
     "execution_count": 95,
     "metadata": {},
     "output_type": "execute_result"
    }
   ],
   "source": [
    "# We will do this by using our predefined 'standardize function'\n",
    "standardized_data_2015 = standardize(pop_bdgt_rev_2015)\n",
    "standardized_data_2000 = standardize(pop_bdgt_rev_2000)\n",
    "standardized_data_1985 = standardize(pop_bdgt_rev_1985)\n",
    "\n",
    "# here is a sample:\n",
    "standardized_data_2015.head()"
   ]
  },
  {
   "cell_type": "markdown",
   "metadata": {},
   "source": [
    "## Now that our data is all standardized, we can make neat plots to show trends:\n",
    "\n",
    "In theory, we should be able to visualize the correlation we saw earlier when calculating Pearson's R..."
   ]
  },
  {
   "cell_type": "code",
   "execution_count": 96,
   "metadata": {
    "collapsed": false
   },
   "outputs": [
    {
     "name": "stdout",
     "output_type": "stream",
     "text": [
      "Populating the interactive namespace from numpy and matplotlib\n"
     ]
    },
    {
     "data": {
      "text/plain": [
       "<matplotlib.text.Text at 0x25a8b828>"
      ]
     },
     "execution_count": 96,
     "metadata": {},
     "output_type": "execute_result"
    },
    {
     "data": {
      "image/png": "[encoded data removed]",
      "text/plain": [
       "<matplotlib.figure.Figure at 0x121e7cf8>"
      ]
     },
     "metadata": {},
     "output_type": "display_data"
    }
   ],
   "source": [
    "%pylab inline\n",
    "\n",
    "plt.scatter(standardized_data_2015['budget_adj'], standardized_data_2015['revenue_adj'], \\\n",
    "            s= (standardized_data_2015['popularity']*10))\n",
    "\n",
    "# Let's label the graph:\n",
    "plt.suptitle('2015', fontsize = 20)\n",
    "plt.xlabel('Budget', fontsize=15)\n",
    "plt.ylabel(\"Revenue\", fontsize=15)"
   ]
  },
  {
   "cell_type": "markdown",
   "metadata": {},
   "source": [
    "### Conclusion: From the placement of these dots, you can see that as budget increases, so does revenue and popularity for the year 2015. This matches our initial hypothesis.\n",
    "\n",
    "Let's graph 1985 and 2000 for comparison"
   ]
  },
  {
   "cell_type": "code",
   "execution_count": 97,
   "metadata": {
    "collapsed": false
   },
   "outputs": [
    {
     "name": "stdout",
     "output_type": "stream",
     "text": [
      "Populating the interactive namespace from numpy and matplotlib\n"
     ]
    },
    {
     "data": {
      "text/plain": [
       "<matplotlib.text.Text at 0x15dd04a8>"
      ]
     },
     "execution_count": 97,
     "metadata": {},
     "output_type": "execute_result"
    },
    {
     "data": {
      "image/png": "[encoded data removed]",
      "text/plain": [
       "<matplotlib.figure.Figure at 0x133527b8>"
      ]
     },
     "metadata": {},
     "output_type": "display_data"
    }
   ],
   "source": [
    "%pylab inline\n",
    "\n",
    "plt.scatter(standardized_data_2000['budget_adj'], standardized_data_2000['revenue_adj'], \\\n",
    "            s= (standardized_data_2000['popularity']*10))\n",
    "\n",
    "# Let's label the graph:\n",
    "plt.suptitle('2000', fontsize = 20)\n",
    "plt.xlabel('Budget', fontsize=15)\n",
    "plt.ylabel(\"Revenue\", fontsize=15)"
   ]
  },
  {
   "cell_type": "markdown",
   "metadata": {},
   "source": [
    "### For the year 2000 we can make the same conclusion, but we see a slightly weaker correlation"
   ]
  },
  {
   "cell_type": "code",
   "execution_count": 98,
   "metadata": {
    "collapsed": false
   },
   "outputs": [
    {
     "name": "stdout",
     "output_type": "stream",
     "text": [
      "Populating the interactive namespace from numpy and matplotlib\n"
     ]
    },
    {
     "data": {
      "text/plain": [
       "<matplotlib.text.Text at 0x11c662b0>"
      ]
     },
     "execution_count": 98,
     "metadata": {},
     "output_type": "execute_result"
    },
    {
     "data": {
      "image/png": "[encoded data removed]",
      "text/plain": [
       "<matplotlib.figure.Figure at 0x1d3f1a20>"
      ]
     },
     "metadata": {},
     "output_type": "display_data"
    }
   ],
   "source": [
    "%pylab inline\n",
    "\n",
    "plt.scatter(standardized_data_1985['budget_adj'], standardized_data_1985['revenue_adj'], \\\n",
    "            s= (standardized_data_1985['popularity']*10))\n",
    "\n",
    "# Let's label the graph:\n",
    "plt.suptitle('1985', fontsize = 20)\n",
    "plt.xlabel('Budget', fontsize=15)\n",
    "plt.ylabel(\"Revenue\", fontsize=15)"
   ]
  },
  {
   "cell_type": "markdown",
   "metadata": {},
   "source": [
    "### And for 1985 the correlation between these three variables is even weaker still"
   ]
  },
  {
   "cell_type": "markdown",
   "metadata": {},
   "source": [
    "# Summary of Initial Obersvations:\n",
    "- There is a positive correlation between revenue and popularity\n",
    "    - This correlation stays the same over time\n",
    "- There is a positive correlation between budget and popularity\n",
    "    - This correlation increases over time\n",
    "- There is a positive correlation between budget and revenue\n",
    "    - This correlation appears to increase over time"
   ]
  },
  {
   "cell_type": "markdown",
   "metadata": {},
   "source": [
    "# Now let's plot each correlation over time using our full data set to confirm our initial observations\n",
    "\n",
    "We will start by standardizing each set of variables from the full data set:"
   ]
  },
  {
   "cell_type": "code",
   "execution_count": 99,
   "metadata": {
    "collapsed": false
   },
   "outputs": [
    {
     "name": "stdout",
     "output_type": "stream",
     "text": [
      "0.355362917158\n",
      "0.657635652892\n",
      "0.497085361583\n"
     ]
    }
   ],
   "source": [
    "# Data sliced from the full dataframe:\n",
    "movies_all = movie_data[['release_year','budget_adj','popularity', 'revenue_adj']]\n",
    "# Trimming out the 0s in the budget category again for all movies:\n",
    "pop_bdgt_rev_all = movies_all[movies_all['budget_adj']>0]\n",
    "\n",
    "# Each of these functions are adaptations of the correlation function.\n",
    "# Each one selects only the variables we need for each comparison.\n",
    "def correlate_pop_bdgt(df):\n",
    "    x = df['budget_adj']\n",
    "    y = df['popularity']\n",
    "    xstd = (x-x.mean()) / x.std(ddof=0)\n",
    "    ystd = (y-y.mean()) / y.std(ddof=0)\n",
    "    return (xstd*ystd).mean()\n",
    "\n",
    "def correlate_pop_rev(df):\n",
    "    x = df['revenue_adj']\n",
    "    y = df['popularity']\n",
    "    xstd = (x-x.mean()) / x.std(ddof=0)\n",
    "    ystd = (y-y.mean()) / y.std(ddof=0)\n",
    "    return (xstd*ystd).mean()\n",
    "\n",
    "def correlate_bdgt_rev(df):\n",
    "    x = df['revenue_adj']\n",
    "    y = df['budget_adj']\n",
    "    xstd = (x-x.mean()) / x.std(ddof=0)\n",
    "    ystd = (y-y.mean()) / y.std(ddof=0)\n",
    "    return (xstd*ystd).mean()\n",
    "\n",
    "# We now need to apply our correlation function to each column of data\n",
    "# We will use new variables to represent the individual DataFrames:\n",
    "bdgt_pop_by_year = pop_bdgt_rev_all.groupby('release_year')[['budget_adj', 'popularity']].apply(correlate_pop_bdgt)\n",
    "\n",
    "rev_pop_by_year = pop_bdgt_rev_all.groupby('release_year')[['revenue_adj','popularity']].apply(correlate_pop_rev)\n",
    "\n",
    "rev_bdgt_by_year = pop_bdgt_rev_all.groupby('release_year')[['revenue_adj','budget_adj']].apply(correlate_bdgt_rev)\n",
    "\n",
    "# Let's take a peek at the mean\n",
    "print bdgt_pop_by_year.mean()\n",
    "print rev_pop_by_year.mean()\n",
    "print rev_bdgt_by_year.mean()"
   ]
  },
  {
   "cell_type": "markdown",
   "metadata": {},
   "source": [
    "## The ugliest sideways Christmas tree of all time"
   ]
  },
  {
   "cell_type": "markdown",
   "metadata": {},
   "source": [
    "Now that we have a dataframe for each variable, let's plot both revenue and budget over time. This should allow us to see if the correlations behave the way we hypothesized they would year by year. "
   ]
  },
  {
   "cell_type": "code",
   "execution_count": 101,
   "metadata": {
    "collapsed": false
   },
   "outputs": [
    {
     "name": "stdout",
     "output_type": "stream",
     "text": [
      "Populating the interactive namespace from numpy and matplotlib\n"
     ]
    },
    {
     "data": {
      "text/plain": [
       "<matplotlib.legend.Legend at 0x132156d8>"
      ]
     },
     "execution_count": 101,
     "metadata": {},
     "output_type": "execute_result"
    },
    {
     "data": {
      "image/png": "[encoded data removed]",
      "text/plain": [
       "<matplotlib.figure.Figure at 0x268019e8>"
      ]
     },
     "metadata": {},
     "output_type": "display_data"
    }
   ],
   "source": [
    "%pylab inline\n",
    "\n",
    "# this adjusts the size of the window so we can see the lines better:\n",
    "plt.figure(figsize=(12,6))\n",
    "\n",
    "# Plotting our correlatoins:\n",
    "rev_pop_by_year.plot(color='red', label='Revenue/Popularity')\n",
    "bdgt_pop_by_year.plot(color='green', label='Budget/Popularity')\n",
    "rev_bdgt_by_year.plot(color='blue', label='Budget/Revenue')\n",
    "\n",
    "# Let's label the graph:\n",
    "plt.suptitle('Correlation over time', fontsize = 20)\n",
    "plt.xlabel('Year', fontsize=15)\n",
    "plt.ylabel(\"Pearson's R\", fontsize=15)\n",
    "plt.legend(fontsize=8)"
   ]
  },
  {
   "cell_type": "markdown",
   "metadata": {},
   "source": [
    "# Conclusions"
   ]
  },
  {
   "cell_type": "markdown",
   "metadata": {},
   "source": [
    "While this analysis was far from comprehensive, my original hypothesis appears to be confirmed. I also found out the correlation between budget and revenue which I was initially unsure of. Below is a bullet point summary:\n",
    "\n",
    "- There is a positive correlation between revenue and popularity\n",
    "    - This correlation on average stays the same over time\n",
    "    - This is a weak correlation and does change drastically the farther back in time we go\n",
    "        - This makes sense because most movies that make a lot of money are also popular\n",
    "        - This has not really changed as long as I can remember\n",
    "        \n",
    "        \n",
    "- There is a positive correlation between budget and popularity\n",
    "    - This correlation on average increases over time\n",
    "        - This also makes sense because big budget hollywood films also have fantastic marketing to make them popular\n",
    "        - This increase in correlation could also mean that the industry has been gradually commercialized?\n",
    "        - This could make sense because film makers using the internet can understand trends better\n",
    "        \n",
    "        \n",
    "- There is a positive correlation between budget and revenue\n",
    "    - This correlation appears to be strong before the 70s, then very weak in the 70s-80s, then increase over time after the 1980s\n",
    "    - While this correlation does jump around from year to year, we still see an overall increase over time\n",
    "        - This makes sense because again, big budget hollywood films also have fantastic marketing to ensure they succeed\n",
    "        - This could make sense because film makers using the internet can understand trends better\n",
    "        \n",
    "        \n",
    "- The grouping of these three variables tightens over time\n",
    "    - This could be because the movie industry is becoming gradually more refined\n",
    "        - This could make sense because film makers using the internet can understand trends better\n",
    "        \n"
   ]
  },
  {
   "cell_type": "markdown",
   "metadata": {},
   "source": [
    "# * IMPORTANT * - Limitations of this study:"
   ]
  },
  {
   "cell_type": "markdown",
   "metadata": {},
   "source": [
    "### Overall, to really confirm any of this data, many many more variables would need to be investigated. Below are some factors:\n",
    "\n",
    "1.) We had to trim out many movies with a budget of '0'\n",
    "    - If we had this data, how would it affect the investigation?\n",
    "    \n",
    "    \n",
    "2.) We do not know how the other values in the full data set contribute to this investigation\n",
    "    - In a future investigation for example, we could see how the genre affects this correlation\n",
    "        - Do sci-fi films have the same correlations as romance?\n",
    "            - In theory, the cost of sci-fi films special effects could play a role in the budget\n",
    "            \n",
    "            \n",
    "3.) There could be other factors outside TMBD's data set entirely\n",
    "    - Perhaps the political climate during certain years had an effect on the revenue of certain genres?\n",
    "\n",
    "This short study has allowed me to probe into film industry data and think critically about correlation of variables and satisfy curiosity. "
   ]
  }
 ],
 "metadata": {
  "anaconda-cloud": {},
  "kernelspec": {
   "display_name": "Python 2",
   "language": "python",
   "name": "python2"
  },
  "language_info": {
   "codemirror_mode": {
    "name": "ipython",
    "version": 2
   },
   "file_extension": ".py",
   "mimetype": "text/x-python",
   "name": "python",
   "nbconvert_exporter": "python",
   "pygments_lexer": "ipython2",
   "version": "2.7.12"
  }
 },
 "nbformat": 4,
 "nbformat_minor": 2
}
