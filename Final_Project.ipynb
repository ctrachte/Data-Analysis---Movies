{
 "cells": [
  {
   "cell_type": "markdown",
   "metadata": {},
   "source": [
    "# Independent investigation of TMDB dataset that will knock your socks off:\n",
    "### Just take them off now ok?\n",
    "First let's read/convert our CSV to a Pandas dataframe:"
   ]
  },
  {
   "cell_type": "code",
   "execution_count": 221,
   "metadata": {
    "collapsed": true
   },
   "outputs": [],
   "source": [
    "## I prefer to import each library at the beginning of the Notebook\n",
    "## It is important to note that this investigation was built using the Python 2 kernel, \n",
    "## so there will be errors in the print statements if you are using Python 3.\n",
    "import matplotlib.pyplot as plt\n",
    "import numpy as np\n",
    "import pandas as pd\n",
    "import seaborn as sns"
   ]
  },
  {
   "cell_type": "markdown",
   "metadata": {},
   "source": [
    "### Let's start by creating our PandaS DataFrame from the provided CSV:"
   ]
  },
  {
   "cell_type": "code",
   "execution_count": 260,
   "metadata": {
    "collapsed": false
   },
   "outputs": [
    {
     "data": {
      "text/html": [
       "<div>\n",
       "<table border=\"1\" class=\"dataframe\">\n",
       "  <thead>\n",
       "    <tr style=\"text-align: right;\">\n",
       "      <th></th>\n",
       "      <th>id</th>\n",
       "      <th>imdb_id</th>\n",
       "      <th>popularity</th>\n",
       "      <th>budget</th>\n",
       "      <th>revenue</th>\n",
       "      <th>original_title</th>\n",
       "      <th>cast</th>\n",
       "      <th>homepage</th>\n",
       "      <th>director</th>\n",
       "      <th>tagline</th>\n",
       "      <th>...</th>\n",
       "      <th>overview</th>\n",
       "      <th>runtime</th>\n",
       "      <th>genres</th>\n",
       "      <th>production_companies</th>\n",
       "      <th>release_date</th>\n",
       "      <th>vote_count</th>\n",
       "      <th>vote_average</th>\n",
       "      <th>release_year</th>\n",
       "      <th>budget_adj</th>\n",
       "      <th>revenue_adj</th>\n",
       "    </tr>\n",
       "  </thead>\n",
       "  <tbody>\n",
       "    <tr>\n",
       "      <th>0</th>\n",
       "      <td>135397</td>\n",
       "      <td>tt0369610</td>\n",
       "      <td>32.985763</td>\n",
       "      <td>150000000</td>\n",
       "      <td>1513528810</td>\n",
       "      <td>Jurassic World</td>\n",
       "      <td>Chris Pratt|Bryce Dallas Howard|Irrfan Khan|Vi...</td>\n",
       "      <td>http://www.jurassicworld.com/</td>\n",
       "      <td>Colin Trevorrow</td>\n",
       "      <td>The park is open.</td>\n",
       "      <td>...</td>\n",
       "      <td>Twenty-two years after the events of Jurassic ...</td>\n",
       "      <td>124</td>\n",
       "      <td>Action|Adventure|Science Fiction|Thriller</td>\n",
       "      <td>Universal Studios|Amblin Entertainment|Legenda...</td>\n",
       "      <td>6/9/15</td>\n",
       "      <td>5562</td>\n",
       "      <td>6.5</td>\n",
       "      <td>2015</td>\n",
       "      <td>1.379999e+08</td>\n",
       "      <td>1.392446e+09</td>\n",
       "    </tr>\n",
       "    <tr>\n",
       "      <th>1</th>\n",
       "      <td>76341</td>\n",
       "      <td>tt1392190</td>\n",
       "      <td>28.419936</td>\n",
       "      <td>150000000</td>\n",
       "      <td>378436354</td>\n",
       "      <td>Mad Max: Fury Road</td>\n",
       "      <td>Tom Hardy|Charlize Theron|Hugh Keays-Byrne|Nic...</td>\n",
       "      <td>http://www.madmaxmovie.com/</td>\n",
       "      <td>George Miller</td>\n",
       "      <td>What a Lovely Day.</td>\n",
       "      <td>...</td>\n",
       "      <td>An apocalyptic story set in the furthest reach...</td>\n",
       "      <td>120</td>\n",
       "      <td>Action|Adventure|Science Fiction|Thriller</td>\n",
       "      <td>Village Roadshow Pictures|Kennedy Miller Produ...</td>\n",
       "      <td>5/13/15</td>\n",
       "      <td>6185</td>\n",
       "      <td>7.1</td>\n",
       "      <td>2015</td>\n",
       "      <td>1.379999e+08</td>\n",
       "      <td>3.481613e+08</td>\n",
       "    </tr>\n",
       "    <tr>\n",
       "      <th>2</th>\n",
       "      <td>262500</td>\n",
       "      <td>tt2908446</td>\n",
       "      <td>13.112507</td>\n",
       "      <td>110000000</td>\n",
       "      <td>295238201</td>\n",
       "      <td>Insurgent</td>\n",
       "      <td>Shailene Woodley|Theo James|Kate Winslet|Ansel...</td>\n",
       "      <td>http://www.thedivergentseries.movie/#insurgent</td>\n",
       "      <td>Robert Schwentke</td>\n",
       "      <td>One Choice Can Destroy You</td>\n",
       "      <td>...</td>\n",
       "      <td>Beatrice Prior must confront her inner demons ...</td>\n",
       "      <td>119</td>\n",
       "      <td>Adventure|Science Fiction|Thriller</td>\n",
       "      <td>Summit Entertainment|Mandeville Films|Red Wago...</td>\n",
       "      <td>3/18/15</td>\n",
       "      <td>2480</td>\n",
       "      <td>6.3</td>\n",
       "      <td>2015</td>\n",
       "      <td>1.012000e+08</td>\n",
       "      <td>2.716190e+08</td>\n",
       "    </tr>\n",
       "    <tr>\n",
       "      <th>3</th>\n",
       "      <td>140607</td>\n",
       "      <td>tt2488496</td>\n",
       "      <td>11.173104</td>\n",
       "      <td>200000000</td>\n",
       "      <td>2068178225</td>\n",
       "      <td>Star Wars: The Force Awakens</td>\n",
       "      <td>Harrison Ford|Mark Hamill|Carrie Fisher|Adam D...</td>\n",
       "      <td>http://www.starwars.com/films/star-wars-episod...</td>\n",
       "      <td>J.J. Abrams</td>\n",
       "      <td>Every generation has a story.</td>\n",
       "      <td>...</td>\n",
       "      <td>Thirty years after defeating the Galactic Empi...</td>\n",
       "      <td>136</td>\n",
       "      <td>Action|Adventure|Science Fiction|Fantasy</td>\n",
       "      <td>Lucasfilm|Truenorth Productions|Bad Robot</td>\n",
       "      <td>12/15/15</td>\n",
       "      <td>5292</td>\n",
       "      <td>7.5</td>\n",
       "      <td>2015</td>\n",
       "      <td>1.839999e+08</td>\n",
       "      <td>1.902723e+09</td>\n",
       "    </tr>\n",
       "    <tr>\n",
       "      <th>4</th>\n",
       "      <td>168259</td>\n",
       "      <td>tt2820852</td>\n",
       "      <td>9.335014</td>\n",
       "      <td>190000000</td>\n",
       "      <td>1506249360</td>\n",
       "      <td>Furious 7</td>\n",
       "      <td>Vin Diesel|Paul Walker|Jason Statham|Michelle ...</td>\n",
       "      <td>http://www.furious7.com/</td>\n",
       "      <td>James Wan</td>\n",
       "      <td>Vengeance Hits Home</td>\n",
       "      <td>...</td>\n",
       "      <td>Deckard Shaw seeks revenge against Dominic Tor...</td>\n",
       "      <td>137</td>\n",
       "      <td>Action|Crime|Thriller</td>\n",
       "      <td>Universal Pictures|Original Film|Media Rights ...</td>\n",
       "      <td>4/1/15</td>\n",
       "      <td>2947</td>\n",
       "      <td>7.3</td>\n",
       "      <td>2015</td>\n",
       "      <td>1.747999e+08</td>\n",
       "      <td>1.385749e+09</td>\n",
       "    </tr>\n",
       "  </tbody>\n",
       "</table>\n",
       "<p>5 rows × 21 columns</p>\n",
       "</div>"
      ],
      "text/plain": [
       "       id    imdb_id  popularity     budget     revenue  \\\n",
       "0  135397  tt0369610   32.985763  150000000  1513528810   \n",
       "1   76341  tt1392190   28.419936  150000000   378436354   \n",
       "2  262500  tt2908446   13.112507  110000000   295238201   \n",
       "3  140607  tt2488496   11.173104  200000000  2068178225   \n",
       "4  168259  tt2820852    9.335014  190000000  1506249360   \n",
       "\n",
       "                 original_title  \\\n",
       "0                Jurassic World   \n",
       "1            Mad Max: Fury Road   \n",
       "2                     Insurgent   \n",
       "3  Star Wars: The Force Awakens   \n",
       "4                     Furious 7   \n",
       "\n",
       "                                                cast  \\\n",
       "0  Chris Pratt|Bryce Dallas Howard|Irrfan Khan|Vi...   \n",
       "1  Tom Hardy|Charlize Theron|Hugh Keays-Byrne|Nic...   \n",
       "2  Shailene Woodley|Theo James|Kate Winslet|Ansel...   \n",
       "3  Harrison Ford|Mark Hamill|Carrie Fisher|Adam D...   \n",
       "4  Vin Diesel|Paul Walker|Jason Statham|Michelle ...   \n",
       "\n",
       "                                            homepage          director  \\\n",
       "0                      http://www.jurassicworld.com/   Colin Trevorrow   \n",
       "1                        http://www.madmaxmovie.com/     George Miller   \n",
       "2     http://www.thedivergentseries.movie/#insurgent  Robert Schwentke   \n",
       "3  http://www.starwars.com/films/star-wars-episod...       J.J. Abrams   \n",
       "4                           http://www.furious7.com/         James Wan   \n",
       "\n",
       "                         tagline      ...       \\\n",
       "0              The park is open.      ...        \n",
       "1             What a Lovely Day.      ...        \n",
       "2     One Choice Can Destroy You      ...        \n",
       "3  Every generation has a story.      ...        \n",
       "4            Vengeance Hits Home      ...        \n",
       "\n",
       "                                            overview runtime  \\\n",
       "0  Twenty-two years after the events of Jurassic ...     124   \n",
       "1  An apocalyptic story set in the furthest reach...     120   \n",
       "2  Beatrice Prior must confront her inner demons ...     119   \n",
       "3  Thirty years after defeating the Galactic Empi...     136   \n",
       "4  Deckard Shaw seeks revenge against Dominic Tor...     137   \n",
       "\n",
       "                                      genres  \\\n",
       "0  Action|Adventure|Science Fiction|Thriller   \n",
       "1  Action|Adventure|Science Fiction|Thriller   \n",
       "2         Adventure|Science Fiction|Thriller   \n",
       "3   Action|Adventure|Science Fiction|Fantasy   \n",
       "4                      Action|Crime|Thriller   \n",
       "\n",
       "                                production_companies release_date vote_count  \\\n",
       "0  Universal Studios|Amblin Entertainment|Legenda...       6/9/15       5562   \n",
       "1  Village Roadshow Pictures|Kennedy Miller Produ...      5/13/15       6185   \n",
       "2  Summit Entertainment|Mandeville Films|Red Wago...      3/18/15       2480   \n",
       "3          Lucasfilm|Truenorth Productions|Bad Robot     12/15/15       5292   \n",
       "4  Universal Pictures|Original Film|Media Rights ...       4/1/15       2947   \n",
       "\n",
       "   vote_average  release_year    budget_adj   revenue_adj  \n",
       "0           6.5          2015  1.379999e+08  1.392446e+09  \n",
       "1           7.1          2015  1.379999e+08  3.481613e+08  \n",
       "2           6.3          2015  1.012000e+08  2.716190e+08  \n",
       "3           7.5          2015  1.839999e+08  1.902723e+09  \n",
       "4           7.3          2015  1.747999e+08  1.385749e+09  \n",
       "\n",
       "[5 rows x 21 columns]"
      ]
     },
     "execution_count": 260,
     "metadata": {},
     "output_type": "execute_result"
    }
   ],
   "source": [
    "movie_data = pd.read_csv('tmdb-movies.csv')\n",
    "\n",
    "movie_data.head(5)\n",
    "#printing only the first 5 rows will allow me to see what data is contained in my DataFrame:"
   ]
  },
  {
   "cell_type": "markdown",
   "metadata": {},
   "source": [
    "## In this investigation I would like to know how budget and revenue relate to the popularity rating.\n",
    "\n",
    "- I postulate there is a positive correlation between popularity vs budget, as well as revenue vs popularity.\n",
    "    - My hypothesis is that the more money spent, the more exposure a film gets, and therefore the more revenue and higher popularity rating.\n",
    "\n",
    "### Here are some ways I plan to do this:\n",
    "1.) Group the data by year, and analyze at least three data sets from years at least 10 years apart\n",
    "\n",
    "2.) Plot popularity vs revenue and popularity vs budget\n",
    "\n",
    "    a.) Create a scatter plot and a line graph\n",
    "    \n",
    "    b.) Calculate Pearson's R Value for each correlation\n",
    "    \n",
    "*BONUS*\n",
    "\n",
    "3.) Create a scatter plot of revenue vs budget, and the size of each dot will be popularity\n",
    "\n",
    "\n",
    "### Important Note(s):\n",
    "\n",
    "- In actuality many variables contribute to a films popularity, however, we cannot investigate them all for brevity's sake. Most big data companies can do this using machine learning algorithms.\n",
    "- I do not know the exact calculation used to acquire the popularity rating. This may affect our conclusions since we can only assume that the higher the number, the more popular the film.\n",
    "- I am not using the budget/revenue adjusted for inflation figures. This is because when these data are compared to popularity, inflation should not factor in.\n"
   ]
  },
  {
   "cell_type": "markdown",
   "metadata": {},
   "source": [
    "### We should build functions to standardize our data, and calculate Pearson's R:"
   ]
  },
  {
   "cell_type": "code",
   "execution_count": 262,
   "metadata": {
    "collapsed": false
   },
   "outputs": [],
   "source": [
    "# Let's start by defining functions to standardize our data:\n",
    "\n",
    "def standardize_column(column):\n",
    "    return (column-column.mean()) / column.std(ddof=0)\n",
    "\n",
    "def standardize_rows(df):\n",
    "    mean_diffs = df.sub(df.mean(axis='columns'), axis='index')\n",
    "    return mean_diffs.div(df.std(axis='columns',ddof=0), axis='index')\n",
    "\n",
    "def standardize(df):\n",
    "    return df.apply(standardize_column)\n",
    "\n",
    "# And this function will help us see a correlation between two sets of variables (Pearson's R):\n",
    "\n",
    "def correlation(x,y):\n",
    "    xstd = (x-x.mean()) / x.std(ddof=0)\n",
    "    ystd = (y-y.mean()) / y.std(ddof=0)\n",
    "    return (xstd*ystd).mean()"
   ]
  },
  {
   "cell_type": "markdown",
   "metadata": {},
   "source": [
    "## For starters, I would like to slice the data to create three data sets, the most current year 2015 (our primary investigation set) and  for comparison: 2000 and 1985.\n",
    "\n",
    "We can use PandaS `set_index()` function to set the index to the movie title to make our data more understandable:"
   ]
  },
  {
   "cell_type": "code",
   "execution_count": 275,
   "metadata": {
    "collapsed": true
   },
   "outputs": [],
   "source": [
    "#I noticed that PandaS used Float values for adjusted revenue and budget, we need those to be integers to work with them.\n",
    "#First thing to do will be to convert them to integers:\n",
    "\n",
    "movie_data['budget_adj'] = movie_data['budget_adj'].apply(np.int64)\n",
    "movie_data['revenue_adj'] = movie_data['revenue_adj'].apply(np.int64)"
   ]
  },
  {
   "cell_type": "code",
   "execution_count": 276,
   "metadata": {
    "collapsed": false,
    "scrolled": true
   },
   "outputs": [],
   "source": [
    "movies_in_2015 = movie_data[movie_data['release_year']==2015].set_index('original_title')\n",
    "movies_in_2000 = movie_data[movie_data['release_year']==2000].set_index('original_title')\n",
    "movies_in_1985 = movie_data[movie_data['release_year']==1985].set_index('original_title')"
   ]
  },
  {
   "cell_type": "markdown",
   "metadata": {},
   "source": [
    "## Next, let's trim down our dataframe to only include the factors budget, revenue, and popularity"
   ]
  },
  {
   "cell_type": "code",
   "execution_count": 277,
   "metadata": {
    "collapsed": false
   },
   "outputs": [
    {
     "data": {
      "text/html": [
       "<div>\n",
       "<table border=\"1\" class=\"dataframe\">\n",
       "  <thead>\n",
       "    <tr style=\"text-align: right;\">\n",
       "      <th></th>\n",
       "      <th>budget</th>\n",
       "      <th>popularity</th>\n",
       "    </tr>\n",
       "    <tr>\n",
       "      <th>original_title</th>\n",
       "      <th></th>\n",
       "      <th></th>\n",
       "    </tr>\n",
       "  </thead>\n",
       "  <tbody>\n",
       "    <tr>\n",
       "      <th>Back to the Future</th>\n",
       "      <td>19000000</td>\n",
       "      <td>6.095293</td>\n",
       "    </tr>\n",
       "    <tr>\n",
       "      <th>The Breakfast Club</th>\n",
       "      <td>1000000</td>\n",
       "      <td>2.834739</td>\n",
       "    </tr>\n",
       "    <tr>\n",
       "      <th>Ladyhawke</th>\n",
       "      <td>20000000</td>\n",
       "      <td>1.753688</td>\n",
       "    </tr>\n",
       "    <tr>\n",
       "      <th>Mad Max Beyond Thunderdome</th>\n",
       "      <td>12305523</td>\n",
       "      <td>1.746063</td>\n",
       "    </tr>\n",
       "    <tr>\n",
       "      <th>A View to a Kill</th>\n",
       "      <td>30000000</td>\n",
       "      <td>1.623978</td>\n",
       "    </tr>\n",
       "    <tr>\n",
       "      <th>Legend</th>\n",
       "      <td>25000000</td>\n",
       "      <td>1.613752</td>\n",
       "    </tr>\n",
       "    <tr>\n",
       "      <th>The Goonies</th>\n",
       "      <td>19000000</td>\n",
       "      <td>1.596994</td>\n",
       "    </tr>\n",
       "    <tr>\n",
       "      <th>A Nightmare on Elm Street Part 2: Freddy's Revenge</th>\n",
       "      <td>3000000</td>\n",
       "      <td>1.299275</td>\n",
       "    </tr>\n",
       "    <tr>\n",
       "      <th>Rambo: First Blood Part II</th>\n",
       "      <td>44000000</td>\n",
       "      <td>1.177428</td>\n",
       "    </tr>\n",
       "    <tr>\n",
       "      <th>Out of Africa</th>\n",
       "      <td>31000000</td>\n",
       "      <td>1.168819</td>\n",
       "    </tr>\n",
       "    <tr>\n",
       "      <th>Rocky IV</th>\n",
       "      <td>31000000</td>\n",
       "      <td>1.149954</td>\n",
       "    </tr>\n",
       "    <tr>\n",
       "      <th>Brazil</th>\n",
       "      <td>15000000</td>\n",
       "      <td>1.105634</td>\n",
       "    </tr>\n",
       "    <tr>\n",
       "      <th>The Black Cauldron</th>\n",
       "      <td>25000000</td>\n",
       "      <td>1.034373</td>\n",
       "    </tr>\n",
       "    <tr>\n",
       "      <th>The Color Purple</th>\n",
       "      <td>15000000</td>\n",
       "      <td>1.012186</td>\n",
       "    </tr>\n",
       "    <tr>\n",
       "      <th>Commando</th>\n",
       "      <td>10000000</td>\n",
       "      <td>0.898411</td>\n",
       "    </tr>\n",
       "    <tr>\n",
       "      <th>King Solomon's Mines</th>\n",
       "      <td>12500000</td>\n",
       "      <td>0.887605</td>\n",
       "    </tr>\n",
       "    <tr>\n",
       "      <th>The Return of the Living Dead</th>\n",
       "      <td>4000000</td>\n",
       "      <td>0.876636</td>\n",
       "    </tr>\n",
       "    <tr>\n",
       "      <th>Witness</th>\n",
       "      <td>12000000</td>\n",
       "      <td>0.873551</td>\n",
       "    </tr>\n",
       "    <tr>\n",
       "      <th>The Emerald Forest</th>\n",
       "      <td>0</td>\n",
       "      <td>0.790123</td>\n",
       "    </tr>\n",
       "    <tr>\n",
       "      <th>Cocoon</th>\n",
       "      <td>0</td>\n",
       "      <td>0.763430</td>\n",
       "    </tr>\n",
       "  </tbody>\n",
       "</table>\n",
       "</div>"
      ],
      "text/plain": [
       "                                                      budget  popularity\n",
       "original_title                                                          \n",
       "Back to the Future                                  19000000    6.095293\n",
       "The Breakfast Club                                   1000000    2.834739\n",
       "Ladyhawke                                           20000000    1.753688\n",
       "Mad Max Beyond Thunderdome                          12305523    1.746063\n",
       "A View to a Kill                                    30000000    1.623978\n",
       "Legend                                              25000000    1.613752\n",
       "The Goonies                                         19000000    1.596994\n",
       "A Nightmare on Elm Street Part 2: Freddy's Revenge   3000000    1.299275\n",
       "Rambo: First Blood Part II                          44000000    1.177428\n",
       "Out of Africa                                       31000000    1.168819\n",
       "Rocky IV                                            31000000    1.149954\n",
       "Brazil                                              15000000    1.105634\n",
       "The Black Cauldron                                  25000000    1.034373\n",
       "The Color Purple                                    15000000    1.012186\n",
       "Commando                                            10000000    0.898411\n",
       "King Solomon's Mines                                12500000    0.887605\n",
       "The Return of the Living Dead                        4000000    0.876636\n",
       "Witness                                             12000000    0.873551\n",
       "The Emerald Forest                                         0    0.790123\n",
       "Cocoon                                                     0    0.763430"
      ]
     },
     "execution_count": 277,
     "metadata": {},
     "output_type": "execute_result"
    }
   ],
   "source": [
    "pop_bdgt_rev_2015 = movies_in_2015[['budget_adj','popularity', 'revenue_adj']]\n",
    "pop_bdgt_rev_2000 = movies_in_2000[['budget_adj','popularity', 'revenue_adj']]\n",
    "pop_bdgt_rev_1985 = movies_in_1985[['budget_adj','popularity', 'revenue_adj']]\n",
    "\n",
    "pop_bdgt_1985.head(20)"
   ]
  },
  {
   "cell_type": "markdown",
   "metadata": {},
   "source": [
    "## Back to the future AND Rocky IV?? '85 was a good year :-)\n",
    "### But ... I noticed after printing this dataset, that there were lot's of movies with \"0\" for the budget.\n",
    "That doesn't seem right, because it's impossible for a movie not to have a budget. Perhaps for some movies, this data was simply not made available and auto-filled as '0'? So let's clean up the data and remove those entries, simply because we cannot use or trust them:"
   ]
  },
  {
   "cell_type": "code",
   "execution_count": 278,
   "metadata": {
    "collapsed": false
   },
   "outputs": [
    {
     "data": {
      "text/html": [
       "<div>\n",
       "<table border=\"1\" class=\"dataframe\">\n",
       "  <thead>\n",
       "    <tr style=\"text-align: right;\">\n",
       "      <th></th>\n",
       "      <th>budget_adj</th>\n",
       "      <th>popularity</th>\n",
       "      <th>revenue_adj</th>\n",
       "    </tr>\n",
       "    <tr>\n",
       "      <th>original_title</th>\n",
       "      <th></th>\n",
       "      <th></th>\n",
       "      <th></th>\n",
       "    </tr>\n",
       "  </thead>\n",
       "  <tbody>\n",
       "    <tr>\n",
       "      <th>Jurassic World</th>\n",
       "      <td>137999939</td>\n",
       "      <td>32.985763</td>\n",
       "      <td>1392445892</td>\n",
       "    </tr>\n",
       "    <tr>\n",
       "      <th>Mad Max: Fury Road</th>\n",
       "      <td>137999939</td>\n",
       "      <td>28.419936</td>\n",
       "      <td>348161292</td>\n",
       "    </tr>\n",
       "    <tr>\n",
       "      <th>Insurgent</th>\n",
       "      <td>101199955</td>\n",
       "      <td>13.112507</td>\n",
       "      <td>271619025</td>\n",
       "    </tr>\n",
       "    <tr>\n",
       "      <th>Star Wars: The Force Awakens</th>\n",
       "      <td>183999919</td>\n",
       "      <td>11.173104</td>\n",
       "      <td>1902723129</td>\n",
       "    </tr>\n",
       "    <tr>\n",
       "      <th>Furious 7</th>\n",
       "      <td>174799923</td>\n",
       "      <td>9.335014</td>\n",
       "      <td>1385748801</td>\n",
       "    </tr>\n",
       "  </tbody>\n",
       "</table>\n",
       "</div>"
      ],
      "text/plain": [
       "                              budget_adj  popularity  revenue_adj\n",
       "original_title                                                   \n",
       "Jurassic World                 137999939   32.985763   1392445892\n",
       "Mad Max: Fury Road             137999939   28.419936    348161292\n",
       "Insurgent                      101199955   13.112507    271619025\n",
       "Star Wars: The Force Awakens   183999919   11.173104   1902723129\n",
       "Furious 7                      174799923    9.335014   1385748801"
      ]
     },
     "execution_count": 278,
     "metadata": {},
     "output_type": "execute_result"
    }
   ],
   "source": [
    "pop_bdgt_rev_2015 = pop_bdgt_rev_2015[pop_bdgt_rev_2015['budget_adj']>0]\n",
    "# and for our comparison years:\n",
    "pop_bdgt_rev_2000 = pop_bdgt_rev_2000[pop_bdgt_rev_2000['budget_adj']>0]\n",
    "pop_bdgt_rev_1985 = pop_bdgt_rev_1985[pop_bdgt_rev_1985['budget_adj']>0]\n",
    "\n",
    "# Now we see only the movies with data for budget:\n",
    "pop_bdgt_rev_2015.head()"
   ]
  },
  {
   "cell_type": "code",
   "execution_count": 279,
   "metadata": {
    "collapsed": false
   },
   "outputs": [
    {
     "data": {
      "text/html": [
       "<div>\n",
       "<table border=\"1\" class=\"dataframe\">\n",
       "  <thead>\n",
       "    <tr style=\"text-align: right;\">\n",
       "      <th></th>\n",
       "      <th>budget_adj</th>\n",
       "      <th>popularity</th>\n",
       "      <th>revenue_adj</th>\n",
       "    </tr>\n",
       "    <tr>\n",
       "      <th>original_title</th>\n",
       "      <th></th>\n",
       "      <th></th>\n",
       "      <th></th>\n",
       "    </tr>\n",
       "  </thead>\n",
       "  <tbody>\n",
       "    <tr>\n",
       "      <th>Jurassic World</th>\n",
       "      <td>2.313175</td>\n",
       "      <td>8.814597</td>\n",
       "      <td>5.113760</td>\n",
       "    </tr>\n",
       "    <tr>\n",
       "      <th>Mad Max: Fury Road</th>\n",
       "      <td>2.313175</td>\n",
       "      <td>7.502616</td>\n",
       "      <td>0.934046</td>\n",
       "    </tr>\n",
       "    <tr>\n",
       "      <th>Insurgent</th>\n",
       "      <td>1.500294</td>\n",
       "      <td>3.104059</td>\n",
       "      <td>0.627688</td>\n",
       "    </tr>\n",
       "    <tr>\n",
       "      <th>Star Wars: The Force Awakens</th>\n",
       "      <td>3.329277</td>\n",
       "      <td>2.546776</td>\n",
       "      <td>7.156127</td>\n",
       "    </tr>\n",
       "    <tr>\n",
       "      <th>Furious 7</th>\n",
       "      <td>3.126057</td>\n",
       "      <td>2.018605</td>\n",
       "      <td>5.086955</td>\n",
       "    </tr>\n",
       "  </tbody>\n",
       "</table>\n",
       "</div>"
      ],
      "text/plain": [
       "                              budget_adj  popularity  revenue_adj\n",
       "original_title                                                   \n",
       "Jurassic World                  2.313175    8.814597     5.113760\n",
       "Mad Max: Fury Road              2.313175    7.502616     0.934046\n",
       "Insurgent                       1.500294    3.104059     0.627688\n",
       "Star Wars: The Force Awakens    3.329277    2.546776     7.156127\n",
       "Furious 7                       3.126057    2.018605     5.086955"
      ]
     },
     "execution_count": 279,
     "metadata": {},
     "output_type": "execute_result"
    }
   ],
   "source": [
    "# now let's standardize our columns:\n",
    "standardized_data_2015 = standardize(pop_bdgt_rev_2015)\n",
    "standardized_data_2000 = standardize(pop_bdgt_rev_2000)\n",
    "standardized_data_1985 = standardize(pop_bdgt_rev_1985)\n",
    "\n",
    "# here is a sample:\n",
    "standardized_data_2015.head()"
   ]
  },
  {
   "cell_type": "markdown",
   "metadata": {},
   "source": [
    "# Let's investigate Budget vs Popularity:"
   ]
  },
  {
   "cell_type": "markdown",
   "metadata": {},
   "source": [
    "**We can start by calculating Pearson's R to see if there is a positive correlation:**"
   ]
  },
  {
   "cell_type": "markdown",
   "metadata": {},
   "source": [
    "**2015**"
   ]
  },
  {
   "cell_type": "code",
   "execution_count": 295,
   "metadata": {
    "collapsed": false
   },
   "outputs": [
    {
     "data": {
      "text/plain": [
       "0.60559235803122269"
      ]
     },
     "execution_count": 295,
     "metadata": {},
     "output_type": "execute_result"
    }
   ],
   "source": [
    "correlation(pop_bdgt_rev_2015['budget_adj'], pop_bdgt_rev_2015['popularity'])"
   ]
  },
  {
   "cell_type": "markdown",
   "metadata": {},
   "source": [
    "**2000**"
   ]
  },
  {
   "cell_type": "code",
   "execution_count": 296,
   "metadata": {
    "collapsed": false
   },
   "outputs": [
    {
     "data": {
      "text/plain": [
       "0.41627482678603367"
      ]
     },
     "execution_count": 296,
     "metadata": {},
     "output_type": "execute_result"
    }
   ],
   "source": [
    "correlation(pop_bdgt_rev_2000['budget_adj'], pop_bdgt_rev_2000['popularity'])"
   ]
  },
  {
   "cell_type": "markdown",
   "metadata": {},
   "source": [
    "**1985**"
   ]
  },
  {
   "cell_type": "code",
   "execution_count": 297,
   "metadata": {
    "collapsed": false
   },
   "outputs": [
    {
     "data": {
      "text/plain": [
       "0.17416336790445094"
      ]
     },
     "execution_count": 297,
     "metadata": {},
     "output_type": "execute_result"
    }
   ],
   "source": [
    "correlation(pop_bdgt_rev_1985['budget_adj'], pop_bdgt_rev_1985['popularity'])"
   ]
  },
  {
   "cell_type": "markdown",
   "metadata": {},
   "source": [
    "# Now let's investigate Revenue vs Popularity:\n"
   ]
  },
  {
   "cell_type": "markdown",
   "metadata": {},
   "source": [
    "**2015**"
   ]
  },
  {
   "cell_type": "code",
   "execution_count": 298,
   "metadata": {
    "collapsed": false
   },
   "outputs": [
    {
     "data": {
      "text/plain": [
       "0.66266798299720631"
      ]
     },
     "execution_count": 298,
     "metadata": {},
     "output_type": "execute_result"
    }
   ],
   "source": [
    "correlation(pop_bdgt_rev_2015['revenue_adj'], pop_bdgt_rev_2015['popularity'])"
   ]
  },
  {
   "cell_type": "markdown",
   "metadata": {},
   "source": [
    "**2000**"
   ]
  },
  {
   "cell_type": "code",
   "execution_count": 299,
   "metadata": {
    "collapsed": false
   },
   "outputs": [
    {
     "data": {
      "text/plain": [
       "0.69767842785117118"
      ]
     },
     "execution_count": 299,
     "metadata": {},
     "output_type": "execute_result"
    }
   ],
   "source": [
    "correlation(pop_bdgt_rev_2000['revenue_adj'], pop_bdgt_rev_2000['popularity'])"
   ]
  },
  {
   "cell_type": "markdown",
   "metadata": {},
   "source": [
    "**1985**"
   ]
  },
  {
   "cell_type": "code",
   "execution_count": 300,
   "metadata": {
    "collapsed": false
   },
   "outputs": [
    {
     "data": {
      "text/plain": [
       "0.67018810052408861"
      ]
     },
     "execution_count": 300,
     "metadata": {},
     "output_type": "execute_result"
    }
   ],
   "source": [
    "correlation(pop_bdgt_rev_1985['revenue_adj'], pop_bdgt_rev_1985['popularity'])"
   ]
  },
  {
   "cell_type": "markdown",
   "metadata": {},
   "source": [
    "# ScatterPlot of Standardized data:\n",
    "\n",
    "budget vs revenue, with dot size as popularity rating:"
   ]
  },
  {
   "cell_type": "markdown",
   "metadata": {},
   "source": [
    "## 2015"
   ]
  },
  {
   "cell_type": "code",
   "execution_count": 283,
   "metadata": {
    "collapsed": false
   },
   "outputs": [
    {
     "name": "stdout",
     "output_type": "stream",
     "text": [
      "Populating the interactive namespace from numpy and matplotlib\n"
     ]
    },
    {
     "data": {
      "text/plain": [
       "<matplotlib.collections.PathCollection at 0x1c06add8>"
      ]
     },
     "execution_count": 283,
     "metadata": {},
     "output_type": "execute_result"
    },
    {
     "data": {
      "image/png": "[encoded data removed]",
      "text/plain": [
       "<matplotlib.figure.Figure at 0x23965128>"
      ]
     },
     "metadata": {},
     "output_type": "display_data"
    }
   ],
   "source": [
    "%pylab inline\n",
    "\n",
    "plt.scatter(standardized_data_2015['budget_adj'], standardized_data_2015['revenue_adj'], \\\n",
    "            s= (standardized_data_2015['popularity']*10))"
   ]
  },
  {
   "cell_type": "markdown",
   "metadata": {},
   "source": [
    "## 2000"
   ]
  },
  {
   "cell_type": "code",
   "execution_count": 284,
   "metadata": {
    "collapsed": false
   },
   "outputs": [
    {
     "name": "stdout",
     "output_type": "stream",
     "text": [
      "Populating the interactive namespace from numpy and matplotlib\n"
     ]
    },
    {
     "data": {
      "text/plain": [
       "<matplotlib.collections.PathCollection at 0x1f92aeb8>"
      ]
     },
     "execution_count": 284,
     "metadata": {},
     "output_type": "execute_result"
    },
    {
     "data": {
      "image/png": "[encoded data removed]",
      "text/plain": [
       "<matplotlib.figure.Figure at 0x231bcba8>"
      ]
     },
     "metadata": {},
     "output_type": "display_data"
    }
   ],
   "source": [
    "%pylab inline\n",
    "\n",
    "plt.scatter(standardized_data_2000['budget_adj'], standardized_data_2000['revenue_adj'], \\\n",
    "            s= (standardized_data_2000['popularity']*10))"
   ]
  },
  {
   "cell_type": "markdown",
   "metadata": {},
   "source": [
    "## 1985"
   ]
  },
  {
   "cell_type": "code",
   "execution_count": 290,
   "metadata": {
    "collapsed": false
   },
   "outputs": [
    {
     "name": "stdout",
     "output_type": "stream",
     "text": [
      "Populating the interactive namespace from numpy and matplotlib\n"
     ]
    },
    {
     "data": {
      "text/plain": [
       "<matplotlib.collections.PathCollection at 0x1c1f4ef0>"
      ]
     },
     "execution_count": 290,
     "metadata": {},
     "output_type": "execute_result"
    },
    {
     "data": {
      "image/png": "[encoded data removed]",
      "text/plain": [
       "<matplotlib.figure.Figure at 0x1f90d7b8>"
      ]
     },
     "metadata": {},
     "output_type": "display_data"
    }
   ],
   "source": [
    "%pylab inline\n",
    "\n",
    "plt.scatter(standardized_data_1985['budget_adj'], standardized_data_1985['revenue_adj'], \\\n",
    "            s= (standardized_data_1985['popularity']*10))"
   ]
  },
  {
   "cell_type": "markdown",
   "metadata": {},
   "source": [
    "# Initial Obersvations:\n",
    "- There is a positive correlation between revenue and popularity\n",
    "    - This correlation stays the same over time\n",
    "- There is a positive correlation between budget and popularity\n",
    "    - This correlation increases over time"
   ]
  },
  {
   "cell_type": "markdown",
   "metadata": {},
   "source": [
    "## Let's plot each variable over time to confirm this:\n",
    "We will need to use the full data set"
   ]
  },
  {
   "cell_type": "code",
   "execution_count": null,
   "metadata": {
    "collapsed": false
   },
   "outputs": [],
   "source": []
  },
  {
   "cell_type": "markdown",
   "metadata": {},
   "source": [
    "### Show me the money!\n",
    "Budget will be green, revenue will be blue"
   ]
  },
  {
   "cell_type": "code",
   "execution_count": 235,
   "metadata": {
    "collapsed": false
   },
   "outputs": [
    {
     "name": "stdout",
     "output_type": "stream",
     "text": [
      "Populating the interactive namespace from numpy and matplotlib\n"
     ]
    },
    {
     "data": {
      "text/plain": [
       "<matplotlib.axes._subplots.AxesSubplot at 0x19f4ae80>"
      ]
     },
     "execution_count": 235,
     "metadata": {},
     "output_type": "execute_result"
    },
    {
     "data": {
      "image/png": "[encoded data removed]",
      "text/plain": [
       "<matplotlib.figure.Figure at 0x19fb5438>"
      ]
     },
     "metadata": {},
     "output_type": "display_data"
    }
   ],
   "source": [
    "%pylab inline \n",
    "\n",
    "budgt_by_year.plot()\n",
    "rev_by_year.plot()"
   ]
  },
  {
   "cell_type": "markdown",
   "metadata": {},
   "source": [
    "### Show me the popularity:"
   ]
  },
  {
   "cell_type": "code",
   "execution_count": null,
   "metadata": {
    "collapsed": false
   },
   "outputs": [],
   "source": []
  },
  {
   "cell_type": "code",
   "execution_count": null,
   "metadata": {
    "collapsed": true
   },
   "outputs": [],
   "source": []
  }
 ],
 "metadata": {
  "anaconda-cloud": {},
  "kernelspec": {
   "display_name": "Python 2",
   "language": "python",
   "name": "python2"
  },
  "language_info": {
   "codemirror_mode": {
    "name": "ipython",
    "version": 2
   },
   "file_extension": ".py",
   "mimetype": "text/x-python",
   "name": "python",
   "nbconvert_exporter": "python",
   "pygments_lexer": "ipython2",
   "version": "2.7.12"
  }
 },
 "nbformat": 4,
 "nbformat_minor": 2
}
